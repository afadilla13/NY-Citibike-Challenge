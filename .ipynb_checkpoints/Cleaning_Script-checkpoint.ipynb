{
 "cells": [
  {
   "cell_type": "code",
   "execution_count": 1,
   "id": "49f0f99b",
   "metadata": {},
   "outputs": [],
   "source": [
    "# Import dependencies\n",
    "import pandas as pd\n",
    "from pathlib import Path\n",
    "import numpy as np"
   ]
  },
  {
   "cell_type": "code",
   "execution_count": 2,
   "id": "65e664b6",
   "metadata": {},
   "outputs": [],
   "source": [
    "# File to Load\n",
    "aug22_data_path = Path(\"Original Datasets/JC-202208-citibike-tripdata.csv\")\n",
    "sep22_data_path = Path(\"Original Datasets/JC-202209-citibike-tripdata.csv\")\n",
    "oct22_data_path = Path(\"Original Datasets/JC-202210-citibike-tripdata.csv\")\n",
    "nov22_data_path = Path(\"Original Datasets/JC-202211-citibike-tripdata.csv\")\n",
    "dec22_data_path = Path(\"Original Datasets/JC-202212-citibike-tripdata.csv\")\n",
    "jan23_data_path = Path(\"Original Datasets/JC-202301-citibike-tripdata.csv\")\n",
    "feb23_data_path = Path(\"Original Datasets/JC-202302-citibike-tripdata.csv\")\n",
    "mar23_data_path = Path(\"Original Datasets/JC-202303-citibike-tripdata.csv\")\n",
    "apr23_data_path = Path(\"Original Datasets/JC-202304-citibike-tripdata.csv\")\n",
    "may23_data_path = Path(\"Original Datasets/JC-202305-citibike-tripdata.csv\")\n",
    "jun23_data_path = Path(\"Original Datasets/JC-202306-citibike-tripdata.csv\")\n",
    "jul23_data_path = Path(\"Original Datasets/JC-202307-citibike-tripdata.csv\")"
   ]
  },
  {
   "cell_type": "code",
   "execution_count": 3,
   "id": "5cfc3182",
   "metadata": {},
   "outputs": [],
   "source": [
    "# Read the CSV file\n",
    "aug22_data = pd.read_csv(aug22_data_path, low_memory=False)\n",
    "sep22_data = pd.read_csv(sep22_data_path, low_memory=False)\n",
    "oct22_data = pd.read_csv(oct22_data_path, low_memory=False)\n",
    "nov22_data = pd.read_csv(nov22_data_path, low_memory=False)\n",
    "dec22_data = pd.read_csv(dec22_data_path, low_memory=False)\n",
    "jan23_data = pd.read_csv(jan23_data_path, low_memory=False)\n",
    "feb23_data = pd.read_csv(feb23_data_path, low_memory=False)\n",
    "mar23_data = pd.read_csv(mar23_data_path, low_memory=False)\n",
    "apr23_data = pd.read_csv(apr23_data_path, low_memory=False)\n",
    "may23_data = pd.read_csv(may23_data_path, low_memory=False)\n",
    "jun23_data = pd.read_csv(jun23_data_path, low_memory=False)\n",
    "jul23_data = pd.read_csv(jul23_data_path, low_memory=False)"
   ]
  },
  {
   "cell_type": "code",
   "execution_count": 4,
   "id": "5ca973d8",
   "metadata": {},
   "outputs": [
    {
     "data": {
      "text/html": [
       "<div>\n",
       "<style scoped>\n",
       "    .dataframe tbody tr th:only-of-type {\n",
       "        vertical-align: middle;\n",
       "    }\n",
       "\n",
       "    .dataframe tbody tr th {\n",
       "        vertical-align: top;\n",
       "    }\n",
       "\n",
       "    .dataframe thead th {\n",
       "        text-align: right;\n",
       "    }\n",
       "</style>\n",
       "<table border=\"1\" class=\"dataframe\">\n",
       "  <thead>\n",
       "    <tr style=\"text-align: right;\">\n",
       "      <th></th>\n",
       "      <th>ride_id</th>\n",
       "      <th>rideable_type</th>\n",
       "      <th>started_at</th>\n",
       "      <th>ended_at</th>\n",
       "      <th>start_station_name</th>\n",
       "      <th>start_station_id</th>\n",
       "      <th>end_station_name</th>\n",
       "      <th>end_station_id</th>\n",
       "      <th>start_lat</th>\n",
       "      <th>start_lng</th>\n",
       "      <th>end_lat</th>\n",
       "      <th>end_lng</th>\n",
       "      <th>member_casual</th>\n",
       "    </tr>\n",
       "  </thead>\n",
       "  <tbody>\n",
       "    <tr>\n",
       "      <th>0</th>\n",
       "      <td>D68047AAA9A72501</td>\n",
       "      <td>classic_bike</td>\n",
       "      <td>2022-08-12 18:14:45</td>\n",
       "      <td>2022-08-12 18:21:23</td>\n",
       "      <td>Columbus Drive</td>\n",
       "      <td>JC014</td>\n",
       "      <td>Hamilton Park</td>\n",
       "      <td>JC009</td>\n",
       "      <td>40.718355</td>\n",
       "      <td>-74.038914</td>\n",
       "      <td>40.727596</td>\n",
       "      <td>-74.044247</td>\n",
       "      <td>member</td>\n",
       "    </tr>\n",
       "    <tr>\n",
       "      <th>1</th>\n",
       "      <td>E5B82A9F588A7650</td>\n",
       "      <td>classic_bike</td>\n",
       "      <td>2022-08-19 01:04:39</td>\n",
       "      <td>2022-08-19 01:14:10</td>\n",
       "      <td>South Waterfront Walkway - Sinatra Dr &amp; 1 St</td>\n",
       "      <td>HB103</td>\n",
       "      <td>8 St &amp; Washington St</td>\n",
       "      <td>HB603</td>\n",
       "      <td>40.736982</td>\n",
       "      <td>-74.027781</td>\n",
       "      <td>40.745984</td>\n",
       "      <td>-74.028199</td>\n",
       "      <td>member</td>\n",
       "    </tr>\n",
       "    <tr>\n",
       "      <th>2</th>\n",
       "      <td>13D19CCBCC9D7B76</td>\n",
       "      <td>classic_bike</td>\n",
       "      <td>2022-08-19 18:13:45</td>\n",
       "      <td>2022-08-19 19:32:47</td>\n",
       "      <td>South Waterfront Walkway - Sinatra Dr &amp; 1 St</td>\n",
       "      <td>HB103</td>\n",
       "      <td>11 St &amp; Washington St</td>\n",
       "      <td>HB502</td>\n",
       "      <td>40.736982</td>\n",
       "      <td>-74.027781</td>\n",
       "      <td>40.749985</td>\n",
       "      <td>-74.027150</td>\n",
       "      <td>member</td>\n",
       "    </tr>\n",
       "    <tr>\n",
       "      <th>3</th>\n",
       "      <td>AA0DBFF220DA98F6</td>\n",
       "      <td>classic_bike</td>\n",
       "      <td>2022-08-21 13:43:05</td>\n",
       "      <td>2022-08-21 13:53:13</td>\n",
       "      <td>Columbus Drive</td>\n",
       "      <td>JC014</td>\n",
       "      <td>Montgomery St</td>\n",
       "      <td>JC099</td>\n",
       "      <td>40.718355</td>\n",
       "      <td>-74.038914</td>\n",
       "      <td>40.719420</td>\n",
       "      <td>-74.050990</td>\n",
       "      <td>member</td>\n",
       "    </tr>\n",
       "    <tr>\n",
       "      <th>4</th>\n",
       "      <td>8F11D340492FCD32</td>\n",
       "      <td>electric_bike</td>\n",
       "      <td>2022-08-04 22:02:12</td>\n",
       "      <td>2022-08-04 22:21:31</td>\n",
       "      <td>South Waterfront Walkway - Sinatra Dr &amp; 1 St</td>\n",
       "      <td>HB103</td>\n",
       "      <td>Pershing Field</td>\n",
       "      <td>JC024</td>\n",
       "      <td>40.736982</td>\n",
       "      <td>-74.027781</td>\n",
       "      <td>40.742677</td>\n",
       "      <td>-74.051789</td>\n",
       "      <td>member</td>\n",
       "    </tr>\n",
       "  </tbody>\n",
       "</table>\n",
       "</div>"
      ],
      "text/plain": [
       "            ride_id  rideable_type           started_at             ended_at  \\\n",
       "0  D68047AAA9A72501   classic_bike  2022-08-12 18:14:45  2022-08-12 18:21:23   \n",
       "1  E5B82A9F588A7650   classic_bike  2022-08-19 01:04:39  2022-08-19 01:14:10   \n",
       "2  13D19CCBCC9D7B76   classic_bike  2022-08-19 18:13:45  2022-08-19 19:32:47   \n",
       "3  AA0DBFF220DA98F6   classic_bike  2022-08-21 13:43:05  2022-08-21 13:53:13   \n",
       "4  8F11D340492FCD32  electric_bike  2022-08-04 22:02:12  2022-08-04 22:21:31   \n",
       "\n",
       "                             start_station_name start_station_id  \\\n",
       "0                                Columbus Drive            JC014   \n",
       "1  South Waterfront Walkway - Sinatra Dr & 1 St            HB103   \n",
       "2  South Waterfront Walkway - Sinatra Dr & 1 St            HB103   \n",
       "3                                Columbus Drive            JC014   \n",
       "4  South Waterfront Walkway - Sinatra Dr & 1 St            HB103   \n",
       "\n",
       "        end_station_name end_station_id  start_lat  start_lng    end_lat  \\\n",
       "0          Hamilton Park          JC009  40.718355 -74.038914  40.727596   \n",
       "1   8 St & Washington St          HB603  40.736982 -74.027781  40.745984   \n",
       "2  11 St & Washington St          HB502  40.736982 -74.027781  40.749985   \n",
       "3          Montgomery St          JC099  40.718355 -74.038914  40.719420   \n",
       "4         Pershing Field          JC024  40.736982 -74.027781  40.742677   \n",
       "\n",
       "     end_lng member_casual  \n",
       "0 -74.044247        member  \n",
       "1 -74.028199        member  \n",
       "2 -74.027150        member  \n",
       "3 -74.050990        member  \n",
       "4 -74.051789        member  "
      ]
     },
     "execution_count": 4,
     "metadata": {},
     "output_type": "execute_result"
    }
   ],
   "source": [
    "# Check one of the dataframe\n",
    "aug22_data.head()"
   ]
  },
  {
   "cell_type": "code",
   "execution_count": 5,
   "id": "ff8db551",
   "metadata": {},
   "outputs": [
    {
     "name": "stderr",
     "output_type": "stream",
     "text": [
      "C:\\Users\\akbar\\AppData\\Local\\Temp\\ipykernel_15292\\444086811.py:1: FutureWarning: The frame.append method is deprecated and will be removed from pandas in a future version. Use pandas.concat instead.\n",
      "  append_df = aug22_data.append([sep22_data, oct22_data, nov22_data, dec22_data,\n"
     ]
    }
   ],
   "source": [
    "append_df = aug22_data.append([sep22_data, oct22_data, nov22_data, dec22_data,\n",
    "                              jan23_data, feb23_data, mar23_data, apr23_data,\n",
    "                              may23_data, jun23_data, jul23_data], ignore_index=True)"
   ]
  },
  {
   "cell_type": "code",
   "execution_count": 6,
   "id": "0fa06af4",
   "metadata": {},
   "outputs": [
    {
     "name": "stdout",
     "output_type": "stream",
     "text": [
      "<class 'pandas.core.frame.DataFrame'>\n",
      "RangeIndex: 981011 entries, 0 to 981010\n",
      "Data columns (total 13 columns):\n",
      " #   Column              Non-Null Count   Dtype  \n",
      "---  ------              --------------   -----  \n",
      " 0   ride_id             981011 non-null  object \n",
      " 1   rideable_type       981011 non-null  object \n",
      " 2   started_at          981011 non-null  object \n",
      " 3   ended_at            981011 non-null  object \n",
      " 4   start_station_name  980936 non-null  object \n",
      " 5   start_station_id    980936 non-null  object \n",
      " 6   end_station_name    977641 non-null  object \n",
      " 7   end_station_id      977641 non-null  object \n",
      " 8   start_lat           981011 non-null  float64\n",
      " 9   start_lng           981011 non-null  float64\n",
      " 10  end_lat             979712 non-null  float64\n",
      " 11  end_lng             979712 non-null  float64\n",
      " 12  member_casual       981011 non-null  object \n",
      "dtypes: float64(4), object(9)\n",
      "memory usage: 97.3+ MB\n"
     ]
    }
   ],
   "source": [
    "# Check data type in one of the dataframe\n",
    "append_df .info()"
   ]
  },
  {
   "cell_type": "code",
   "execution_count": 7,
   "id": "40f2996b",
   "metadata": {},
   "outputs": [],
   "source": [
    "# Change data types to reduce memory usage\n",
    "append_df['rideable_type'] = append_df['rideable_type'].astype('category')\n",
    "\n",
    "append_df['started_at'] = pd.to_datetime(append_df['started_at'])\n",
    "append_df['ended_at'] = pd.to_datetime(append_df['ended_at'])\n",
    "\n",
    "append_df['start_lat'] = append_df['start_lat'].astype('float32')\n",
    "append_df['start_lng'] = append_df['start_lng'].astype('float32')\n",
    "append_df['end_lat'] = append_df['end_lat'].astype('float32')\n",
    "append_df['end_lng'] = append_df['end_lng'].astype('float32')\n",
    "\n",
    "append_df['member_casual'] = append_df['member_casual'].astype('category')"
   ]
  },
  {
   "cell_type": "code",
   "execution_count": 8,
   "id": "75b3384d",
   "metadata": {},
   "outputs": [
    {
     "name": "stdout",
     "output_type": "stream",
     "text": [
      "<class 'pandas.core.frame.DataFrame'>\n",
      "RangeIndex: 981011 entries, 0 to 981010\n",
      "Data columns (total 13 columns):\n",
      " #   Column              Non-Null Count   Dtype         \n",
      "---  ------              --------------   -----         \n",
      " 0   ride_id             981011 non-null  object        \n",
      " 1   rideable_type       981011 non-null  category      \n",
      " 2   started_at          981011 non-null  datetime64[ns]\n",
      " 3   ended_at            981011 non-null  datetime64[ns]\n",
      " 4   start_station_name  980936 non-null  object        \n",
      " 5   start_station_id    980936 non-null  object        \n",
      " 6   end_station_name    977641 non-null  object        \n",
      " 7   end_station_id      977641 non-null  object        \n",
      " 8   start_lat           981011 non-null  float32       \n",
      " 9   start_lng           981011 non-null  float32       \n",
      " 10  end_lat             979712 non-null  float32       \n",
      " 11  end_lng             979712 non-null  float32       \n",
      " 12  member_casual       981011 non-null  category      \n",
      "dtypes: category(2), datetime64[ns](2), float32(4), object(5)\n",
      "memory usage: 69.2+ MB\n"
     ]
    }
   ],
   "source": [
    "# Check data type in one of the dataframe\n",
    "append_df.info()"
   ]
  },
  {
   "cell_type": "code",
   "execution_count": 9,
   "id": "b10439c8",
   "metadata": {},
   "outputs": [
    {
     "data": {
      "text/plain": [
       "Index(['ride_id', 'rideable_type', 'started_at', 'ended_at',\n",
       "       'start_station_name', 'start_station_id', 'end_station_name',\n",
       "       'end_station_id', 'start_lat', 'start_lng', 'end_lat', 'end_lng',\n",
       "       'member_casual'],\n",
       "      dtype='object')"
      ]
     },
     "execution_count": 9,
     "metadata": {},
     "output_type": "execute_result"
    }
   ],
   "source": [
    "# Get all the header row\n",
    "header_row = append_df.columns\n",
    "header_row"
   ]
  },
  {
   "cell_type": "code",
   "execution_count": 10,
   "id": "f4a321f6",
   "metadata": {},
   "outputs": [
    {
     "data": {
      "text/html": [
       "<div>\n",
       "<style scoped>\n",
       "    .dataframe tbody tr th:only-of-type {\n",
       "        vertical-align: middle;\n",
       "    }\n",
       "\n",
       "    .dataframe tbody tr th {\n",
       "        vertical-align: top;\n",
       "    }\n",
       "\n",
       "    .dataframe thead th {\n",
       "        text-align: right;\n",
       "    }\n",
       "</style>\n",
       "<table border=\"1\" class=\"dataframe\">\n",
       "  <thead>\n",
       "    <tr style=\"text-align: right;\">\n",
       "      <th></th>\n",
       "      <th>ride_id</th>\n",
       "      <th>rideable_type</th>\n",
       "      <th>started_at</th>\n",
       "      <th>ended_at</th>\n",
       "      <th>ride_duration</th>\n",
       "      <th>start_station_name</th>\n",
       "      <th>start_station_id</th>\n",
       "      <th>end_station_name</th>\n",
       "      <th>end_station_id</th>\n",
       "      <th>start_lat</th>\n",
       "      <th>start_lng</th>\n",
       "      <th>end_lat</th>\n",
       "      <th>end_lng</th>\n",
       "      <th>member_casual</th>\n",
       "    </tr>\n",
       "  </thead>\n",
       "  <tbody>\n",
       "    <tr>\n",
       "      <th>0</th>\n",
       "      <td>D68047AAA9A72501</td>\n",
       "      <td>classic_bike</td>\n",
       "      <td>2022-08-12 18:14:45</td>\n",
       "      <td>2022-08-12 18:21:23</td>\n",
       "      <td>0 days 00:06:38</td>\n",
       "      <td>Columbus Drive</td>\n",
       "      <td>JC014</td>\n",
       "      <td>Hamilton Park</td>\n",
       "      <td>JC009</td>\n",
       "      <td>40.718357</td>\n",
       "      <td>-74.038918</td>\n",
       "      <td>40.727596</td>\n",
       "      <td>-74.044250</td>\n",
       "      <td>member</td>\n",
       "    </tr>\n",
       "    <tr>\n",
       "      <th>1</th>\n",
       "      <td>E5B82A9F588A7650</td>\n",
       "      <td>classic_bike</td>\n",
       "      <td>2022-08-19 01:04:39</td>\n",
       "      <td>2022-08-19 01:14:10</td>\n",
       "      <td>0 days 00:09:31</td>\n",
       "      <td>South Waterfront Walkway - Sinatra Dr &amp; 1 St</td>\n",
       "      <td>HB103</td>\n",
       "      <td>8 St &amp; Washington St</td>\n",
       "      <td>HB603</td>\n",
       "      <td>40.736980</td>\n",
       "      <td>-74.027779</td>\n",
       "      <td>40.745983</td>\n",
       "      <td>-74.028198</td>\n",
       "      <td>member</td>\n",
       "    </tr>\n",
       "    <tr>\n",
       "      <th>2</th>\n",
       "      <td>13D19CCBCC9D7B76</td>\n",
       "      <td>classic_bike</td>\n",
       "      <td>2022-08-19 18:13:45</td>\n",
       "      <td>2022-08-19 19:32:47</td>\n",
       "      <td>0 days 01:19:02</td>\n",
       "      <td>South Waterfront Walkway - Sinatra Dr &amp; 1 St</td>\n",
       "      <td>HB103</td>\n",
       "      <td>11 St &amp; Washington St</td>\n",
       "      <td>HB502</td>\n",
       "      <td>40.736980</td>\n",
       "      <td>-74.027779</td>\n",
       "      <td>40.749985</td>\n",
       "      <td>-74.027153</td>\n",
       "      <td>member</td>\n",
       "    </tr>\n",
       "    <tr>\n",
       "      <th>3</th>\n",
       "      <td>AA0DBFF220DA98F6</td>\n",
       "      <td>classic_bike</td>\n",
       "      <td>2022-08-21 13:43:05</td>\n",
       "      <td>2022-08-21 13:53:13</td>\n",
       "      <td>0 days 00:10:08</td>\n",
       "      <td>Columbus Drive</td>\n",
       "      <td>JC014</td>\n",
       "      <td>Montgomery St</td>\n",
       "      <td>JC099</td>\n",
       "      <td>40.718357</td>\n",
       "      <td>-74.038918</td>\n",
       "      <td>40.719421</td>\n",
       "      <td>-74.050987</td>\n",
       "      <td>member</td>\n",
       "    </tr>\n",
       "    <tr>\n",
       "      <th>4</th>\n",
       "      <td>8F11D340492FCD32</td>\n",
       "      <td>electric_bike</td>\n",
       "      <td>2022-08-04 22:02:12</td>\n",
       "      <td>2022-08-04 22:21:31</td>\n",
       "      <td>0 days 00:19:19</td>\n",
       "      <td>South Waterfront Walkway - Sinatra Dr &amp; 1 St</td>\n",
       "      <td>HB103</td>\n",
       "      <td>Pershing Field</td>\n",
       "      <td>JC024</td>\n",
       "      <td>40.736980</td>\n",
       "      <td>-74.027779</td>\n",
       "      <td>40.742676</td>\n",
       "      <td>-74.051788</td>\n",
       "      <td>member</td>\n",
       "    </tr>\n",
       "  </tbody>\n",
       "</table>\n",
       "</div>"
      ],
      "text/plain": [
       "            ride_id  rideable_type          started_at            ended_at  \\\n",
       "0  D68047AAA9A72501   classic_bike 2022-08-12 18:14:45 2022-08-12 18:21:23   \n",
       "1  E5B82A9F588A7650   classic_bike 2022-08-19 01:04:39 2022-08-19 01:14:10   \n",
       "2  13D19CCBCC9D7B76   classic_bike 2022-08-19 18:13:45 2022-08-19 19:32:47   \n",
       "3  AA0DBFF220DA98F6   classic_bike 2022-08-21 13:43:05 2022-08-21 13:53:13   \n",
       "4  8F11D340492FCD32  electric_bike 2022-08-04 22:02:12 2022-08-04 22:21:31   \n",
       "\n",
       "    ride_duration                            start_station_name  \\\n",
       "0 0 days 00:06:38                                Columbus Drive   \n",
       "1 0 days 00:09:31  South Waterfront Walkway - Sinatra Dr & 1 St   \n",
       "2 0 days 01:19:02  South Waterfront Walkway - Sinatra Dr & 1 St   \n",
       "3 0 days 00:10:08                                Columbus Drive   \n",
       "4 0 days 00:19:19  South Waterfront Walkway - Sinatra Dr & 1 St   \n",
       "\n",
       "  start_station_id       end_station_name end_station_id  start_lat  \\\n",
       "0            JC014          Hamilton Park          JC009  40.718357   \n",
       "1            HB103   8 St & Washington St          HB603  40.736980   \n",
       "2            HB103  11 St & Washington St          HB502  40.736980   \n",
       "3            JC014          Montgomery St          JC099  40.718357   \n",
       "4            HB103         Pershing Field          JC024  40.736980   \n",
       "\n",
       "   start_lng    end_lat    end_lng member_casual  \n",
       "0 -74.038918  40.727596 -74.044250        member  \n",
       "1 -74.027779  40.745983 -74.028198        member  \n",
       "2 -74.027779  40.749985 -74.027153        member  \n",
       "3 -74.038918  40.719421 -74.050987        member  \n",
       "4 -74.027779  40.742676 -74.051788        member  "
      ]
     },
     "execution_count": 10,
     "metadata": {},
     "output_type": "execute_result"
    }
   ],
   "source": [
    "# Define the new header\n",
    "new_header = 'ride_duration'\n",
    "\n",
    "# Calculate ride duration and add it as a new column\n",
    "append_df['ride_duration'] = pd.to_datetime(append_df['ended_at']) - pd.to_datetime(append_df['started_at'])\n",
    "\n",
    "# Reorder the columns\n",
    "new_append_one_year = append_df[['ride_id', 'rideable_type', 'started_at', 'ended_at','ride_duration','start_station_name',\n",
    "         'start_station_id', 'end_station_name', 'end_station_id', 'start_lat', 'start_lng',\n",
    "         'end_lat', 'end_lng', 'member_casual']]\n",
    "\n",
    "# Display the modified DataFrame\n",
    "new_append_one_year.head()"
   ]
  },
  {
   "cell_type": "code",
   "execution_count": 11,
   "id": "bf3bb47d",
   "metadata": {},
   "outputs": [
    {
     "name": "stdout",
     "output_type": "stream",
     "text": [
      "<class 'pandas.core.frame.DataFrame'>\n",
      "RangeIndex: 981011 entries, 0 to 981010\n",
      "Data columns (total 14 columns):\n",
      " #   Column              Non-Null Count   Dtype          \n",
      "---  ------              --------------   -----          \n",
      " 0   ride_id             981011 non-null  object         \n",
      " 1   rideable_type       981011 non-null  category       \n",
      " 2   started_at          981011 non-null  datetime64[ns] \n",
      " 3   ended_at            981011 non-null  datetime64[ns] \n",
      " 4   ride_duration       981011 non-null  timedelta64[ns]\n",
      " 5   start_station_name  980936 non-null  object         \n",
      " 6   start_station_id    980936 non-null  object         \n",
      " 7   end_station_name    977641 non-null  object         \n",
      " 8   end_station_id      977641 non-null  object         \n",
      " 9   start_lat           981011 non-null  float32        \n",
      " 10  start_lng           981011 non-null  float32        \n",
      " 11  end_lat             979712 non-null  float32        \n",
      " 12  end_lng             979712 non-null  float32        \n",
      " 13  member_casual       981011 non-null  category       \n",
      "dtypes: category(2), datetime64[ns](2), float32(4), object(5), timedelta64[ns](1)\n",
      "memory usage: 76.7+ MB\n"
     ]
    }
   ],
   "source": [
    "# Check data type in the merged the dataframe\n",
    "new_append_one_year.info()"
   ]
  },
  {
   "cell_type": "code",
   "execution_count": 12,
   "id": "8a13c324",
   "metadata": {},
   "outputs": [
    {
     "data": {
      "text/plain": [
       "(981011, 14)"
      ]
     },
     "execution_count": 12,
     "metadata": {},
     "output_type": "execute_result"
    }
   ],
   "source": [
    "# Check total rows and columns\n",
    "new_append_one_year.shape"
   ]
  },
  {
   "cell_type": "code",
   "execution_count": 13,
   "id": "1cdcc48e",
   "metadata": {
    "scrolled": true
   },
   "outputs": [
    {
     "data": {
      "text/plain": [
       "ride_id                  0\n",
       "rideable_type            0\n",
       "started_at               0\n",
       "ended_at                 0\n",
       "ride_duration            0\n",
       "start_station_name      75\n",
       "start_station_id        75\n",
       "end_station_name      3370\n",
       "end_station_id        3370\n",
       "start_lat                0\n",
       "start_lng                0\n",
       "end_lat               1299\n",
       "end_lng               1299\n",
       "member_casual            0\n",
       "dtype: int64"
      ]
     },
     "execution_count": 13,
     "metadata": {},
     "output_type": "execute_result"
    }
   ],
   "source": [
    "# Check total number of missing values in each columns\n",
    "new_append_one_year.isnull().sum()"
   ]
  },
  {
   "cell_type": "code",
   "execution_count": 14,
   "id": "eae5fdf0",
   "metadata": {},
   "outputs": [],
   "source": [
    "# Create a copy of the DataFrame and drop NaN values\n",
    "copy_dataframe = new_append_one_year.copy()"
   ]
  },
  {
   "cell_type": "code",
   "execution_count": 15,
   "id": "1a00f7aa",
   "metadata": {},
   "outputs": [],
   "source": [
    "# Drop missing values in the dataframe \n",
    "copy_dataframe.dropna(inplace=True)"
   ]
  },
  {
   "cell_type": "code",
   "execution_count": 16,
   "id": "76cfddec",
   "metadata": {},
   "outputs": [
    {
     "data": {
      "text/plain": [
       "ride_id               0\n",
       "rideable_type         0\n",
       "started_at            0\n",
       "ended_at              0\n",
       "ride_duration         0\n",
       "start_station_name    0\n",
       "start_station_id      0\n",
       "end_station_name      0\n",
       "end_station_id        0\n",
       "start_lat             0\n",
       "start_lng             0\n",
       "end_lat               0\n",
       "end_lng               0\n",
       "member_casual         0\n",
       "dtype: int64"
      ]
     },
     "execution_count": 16,
     "metadata": {},
     "output_type": "execute_result"
    }
   ],
   "source": [
    "# Check if missing values have been dropped\n",
    "copy_dataframe.isnull().sum()"
   ]
  },
  {
   "cell_type": "code",
   "execution_count": null,
   "id": "fef3129d",
   "metadata": {},
   "outputs": [],
   "source": [
    "NY_citibike_cleaned = copy_dataframe\n",
    "NY_citibike_cleaned.to_csv('Cleaned_Dataset/cleaned_data.csv',index=False)"
   ]
  },
  {
   "cell_type": "code",
   "execution_count": null,
   "id": "9c0db2f8",
   "metadata": {},
   "outputs": [],
   "source": []
  }
 ],
 "metadata": {
  "kernelspec": {
   "display_name": "Python 3 (ipykernel)",
   "language": "python",
   "name": "python3"
  },
  "language_info": {
   "codemirror_mode": {
    "name": "ipython",
    "version": 3
   },
   "file_extension": ".py",
   "mimetype": "text/x-python",
   "name": "python",
   "nbconvert_exporter": "python",
   "pygments_lexer": "ipython3",
   "version": "3.10.11"
  }
 },
 "nbformat": 4,
 "nbformat_minor": 5
}
